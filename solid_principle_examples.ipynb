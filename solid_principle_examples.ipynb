{
 "cells": [
  {
   "cell_type": "markdown",
   "metadata": {},
   "source": [
    "# Solid Principles"
   ]
  },
  {
   "cell_type": "markdown",
   "metadata": {},
   "source": [
    "## S-Single Responsibility Principle (SRP)"
   ]
  },
  {
   "cell_type": "markdown",
   "metadata": {},
   "source": [
    "A class should have one, and only one, reason to change."
   ]
  },
  {
   "cell_type": "code",
   "execution_count": 3,
   "metadata": {},
   "outputs": [],
   "source": [
    "class UserManager:\n",
    "    def authenticate_user(self, username, password):\n",
    "        if username == 'sumit' and password == 'admin':\n",
    "            print('User authenticated!')\n",
    "            return True\n",
    "        print('User not authenticated!')\n",
    "        return False\n",
    "    \n",
    "    def update_user_profile(self, username, new_profile):\n",
    "        print('User profile updated!')\n",
    "        return True\n",
    "    \n",
    "    def send_email_notification(self, username,user_email, message):\n",
    "        print('Email sent to', username, 'at', user_email)\n",
    "        print('Message:', message)\n",
    "        return True\n"
   ]
  },
  {
   "cell_type": "code",
   "execution_count": 4,
   "metadata": {},
   "outputs": [
    {
     "name": "stdout",
     "output_type": "stream",
     "text": [
      "User authenticated!\n",
      "User profile updated!\n",
      "Email sent to sumit at ivsumitkumar@gmail.com\n",
      "Message: Hello Sumit, Welcome to Python Programming!\n"
     ]
    },
    {
     "data": {
      "text/plain": [
       "True"
      ]
     },
     "execution_count": 4,
     "metadata": {},
     "output_type": "execute_result"
    }
   ],
   "source": [
    "user = UserManager()\n",
    "user.authenticate_user('sumit', 'admin')\n",
    "user.update_user_profile('sumit', 'sumit Kumar')\n",
    "user.send_email_notification('sumit', 'ivsumitkumar@gmail.com', 'Hello Sumit, Welcome to Python Programming!')\n"
   ]
  },
  {
   "cell_type": "markdown",
   "metadata": {},
   "source": [
    "this class violates SRP as it has multiple responsibilities: authentication, profile management, email notification.\n",
    "\n",
    "To adhere SRP split the class into multiple classes."
   ]
  },
  {
   "cell_type": "code",
   "execution_count": 10,
   "metadata": {},
   "outputs": [],
   "source": [
    "class Authenticator:\n",
    "    def authenticate_user(self, username, password):\n",
    "        if username == 'sumit' and password == 'admin':\n",
    "            print('User authenticated!')\n",
    "            return True\n",
    "        print('User not authenticated!')\n",
    "        return False\n",
    "\n",
    "class ProfileManager:\n",
    "    def update_user_profile(self, username, new_profile):\n",
    "        print('User profile updated! New profile:', new_profile)\n",
    "        return True\n",
    "\n",
    "class NotificationManager:\n",
    "    def send_email_notification(self, username, user_email, message):\n",
    "        print('Email sent to', username, 'at', user_email)\n",
    "        print('Message:', message)\n",
    "        return True"
   ]
  },
  {
   "cell_type": "code",
   "execution_count": 11,
   "metadata": {},
   "outputs": [
    {
     "name": "stdout",
     "output_type": "stream",
     "text": [
      "User authenticated!\n",
      "User profile updated! New profile: sumit Kumar\n",
      "Email sent to sumit at ivsumitkumar@gmail.com\n",
      "Message: Hello Sumit, Welcome to Python Programming!\n"
     ]
    },
    {
     "data": {
      "text/plain": [
       "True"
      ]
     },
     "execution_count": 11,
     "metadata": {},
     "output_type": "execute_result"
    }
   ],
   "source": [
    "auth = Authenticator()\n",
    "auth.authenticate_user('sumit', 'admin')\n",
    "\n",
    "profiler = ProfileManager()\n",
    "profiler.update_user_profile('sumit', 'sumit Kumar')\n",
    "\n",
    "notify = NotificationManager()\n",
    "notify.send_email_notification('sumit', 'ivsumitkumar@gmail.com', 'Hello Sumit, Welcome to Python Programming!')"
   ]
  },
  {
   "cell_type": "markdown",
   "metadata": {},
   "source": [
    "## O-open/close principle (OCP)"
   ]
  },
  {
   "cell_type": "markdown",
   "metadata": {},
   "source": [
    "Software entities (classes, modules, functions, etc.) should be open for extension, but closed for modification."
   ]
  },
  {
   "cell_type": "markdown",
   "metadata": {},
   "source": [
    "Let's say we have 'ShapeCalculator' class to calculate the area and perimeter for different shapes like rectangle and Circle."
   ]
  },
  {
   "cell_type": "code",
   "execution_count": 1,
   "metadata": {},
   "outputs": [],
   "source": [
    "class ShapeCalculator:\n",
    "    def calculate_area(self, shape):\n",
    "        if shape.type == 'rectangle':\n",
    "            return shape.length * shape.width\n",
    "        elif shape.type == 'circle':\n",
    "            return 3.14 * shape.radius ** 2\n",
    "\n",
    "    def calculate_perimeter(self, shape):\n",
    "        if shape.type == 'rectangle':\n",
    "            return 2 * (shape.length + shape.width)\n",
    "        elif shape.type == 'circle':\n",
    "            return 2 * 3.14 * shape.radius"
   ]
  },
  {
   "cell_type": "markdown",
   "metadata": {},
   "source": [
    "Now we want to add support for a new shape like a triangle, we would have to modify the calculate_area and calculate_perimeter methods, violating the open/close principle.\n",
    "\n",
    "To adhere to the OCP, we can create an abstract base class for shape and separate concrete classes for each shape type."
   ]
  },
  {
   "cell_type": "code",
   "execution_count": 20,
   "metadata": {},
   "outputs": [],
   "source": [
    "from abc import ABC, abstractmethod\n",
    "\n",
    "class Shape(ABC):\n",
    "    @abstractmethod\n",
    "    def calculate_area(self):\n",
    "        pass\n",
    "\n",
    "    def calculate_perimeter(self):\n",
    "        pass\n",
    "\n",
    "class Rectangle(Shape):\n",
    "    def __init__(self, width, height):\n",
    "        self.width = width\n",
    "        self.height = height\n",
    "    \n",
    "    def calculate_area(self):\n",
    "        return self.width * self.height\n",
    "    \n",
    "    def calculate_perimeter(self):\n",
    "        return 2 * (self.width + self.height)\n",
    "\n",
    "class Circle(Shape):\n",
    "    def __init__(self, radius):\n",
    "        self.radius = radius\n",
    "    \n",
    "    def calculate_area(self):\n",
    "        return 3.14 * self.radius ** 2\n",
    "    \n",
    "    def calculate_perimeter(self):\n",
    "        return 2 * 3.14 * self.radius\n",
    "\n",
    "class Triangle(Shape):\n",
    "    def __init__(self, base, height):\n",
    "        self.base = base\n",
    "        self.height = height\n",
    "    \n",
    "    def calculate_area(self):\n",
    "        return 0.5 * self.base * self.height\n",
    "    \n",
    "    def calculate_perimeter(self):\n",
    "        return 3 * self.base\n"
   ]
  },
  {
   "cell_type": "code",
   "execution_count": 21,
   "metadata": {},
   "outputs": [
    {
     "name": "stdout",
     "output_type": "stream",
     "text": [
      "Rectangle area: 200\n",
      "Rectangle perimeter: 60\n",
      "\n",
      "Circle area: 78.5\n",
      "Circle perimeter: 31.400000000000002\n",
      "\n",
      "Triangle area: 100.0\n",
      "Triangle perimeter: 30\n",
      "\n"
     ]
    }
   ],
   "source": [
    "rectangle = Rectangle(10, 20)\n",
    "print('Rectangle area:', rectangle.calculate_area())\n",
    "print('Rectangle perimeter:', rectangle.calculate_perimeter(), end = '\\n\\n')\n",
    "\n",
    "circle = Circle(5)\n",
    "print('Circle area:', circle.calculate_area())\n",
    "print('Circle perimeter:', circle.calculate_perimeter(), end = '\\n\\n')\n",
    "\n",
    "triangle = Triangle(10, 20)\n",
    "print('Triangle area:', triangle.calculate_area())\n",
    "print('Triangle perimeter:', triangle.calculate_perimeter(), end = '\\n\\n')"
   ]
  },
  {
   "cell_type": "markdown",
   "metadata": {},
   "source": [
    "## L-Liskov Substitution Principle (LSP)"
   ]
  },
  {
   "cell_type": "markdown",
   "metadata": {},
   "source": [
    "Objects of a superclass should be replaceable with objects of its subclasses without affecting the correctness of the program.\n",
    "\n",
    "This means if you have a base class and a derived class, you should be able to use instances of the derived class wherever instances of the base class are expected, without breaking the application."
   ]
  },
  {
   "cell_type": "markdown",
   "metadata": {},
   "source": [
    "Code Example:\n",
    "Let's consider a scenario where we have a base class Vehicle and two derived classes Car and Bicycle.\n",
    "\n",
    "Without following the LSP, the code might look like this:"
   ]
  },
  {
   "cell_type": "code",
   "execution_count": 30,
   "metadata": {},
   "outputs": [],
   "source": [
    "from abc import ABC, abstractmethod\n",
    "\n",
    "class vehicle(ABC):\n",
    "    @abstractmethod\n",
    "    def start_engine(self):\n",
    "        pass\n",
    "\n",
    "class Car(vehicle):\n",
    "    def start_engine(self):\n",
    "        print('Car engine started!')\n",
    "\n",
    "class Bicycle(vehicle):\n",
    "    def start_engine(self):\n",
    "        # this doesn't make sense\n",
    "        print('Bicycle engine started!')\n",
    "        pass"
   ]
  },
  {
   "cell_type": "markdown",
   "metadata": {},
   "source": [
    "In this example, the Bicycle class violates the LSP because it provides an implementation for the start_engine method, which doesn't make sense for a bicycle.\n",
    "\n",
    "If we try to substitute a Bicycle instance where a Vehicle instance is expected, it might lead to unexpected behavior or errors.\n",
    "\n",
    "To adhere to the LSP, we can restructure the code as follows"
   ]
  },
  {
   "cell_type": "code",
   "execution_count": 36,
   "metadata": {},
   "outputs": [],
   "source": [
    "from abc import ABC, abstractmethod\n",
    "\n",
    "\n",
    "class Vehicle(ABC):\n",
    "    @abstractmethod\n",
    "    def start(self):\n",
    "        pass\n",
    "\n",
    "class Car(Vehicle):\n",
    "    def start(self):\n",
    "        print('Car engine started!', end='\\n\\n')\n",
    "\n",
    "class Bicycle(Vehicle):\n",
    "    def start(self):\n",
    "        print('Pedaling the bicycle!')"
   ]
  },
  {
   "cell_type": "code",
   "execution_count": 37,
   "metadata": {},
   "outputs": [
    {
     "name": "stdout",
     "output_type": "stream",
     "text": [
      "Car engine started!\n",
      "\n",
      "Pedaling the bicycle!\n"
     ]
    }
   ],
   "source": [
    "car = Car()\n",
    "car.start()\n",
    "\n",
    "bicycle = Bicycle()\n",
    "bicycle.start()"
   ]
  },
  {
   "cell_type": "markdown",
   "metadata": {},
   "source": [
    "## I-Interface Segregation Principle (ISP)"
   ]
  },
  {
   "cell_type": "markdown",
   "metadata": {},
   "source": [
    "No client should be forced to depend on interfaces they don't use.\n",
    "\n",
    "The main idea behind ISP is to prevent the creation of \"fat\" or \"bloated\" interfaces that include methods that are not required by all clients.\n",
    "\n",
    "By segregating interfaces into smaller, more specific ones, clients only depend on the methods they actually need, promoting loose coupling and better code organization."
   ]
  },
  {
   "cell_type": "markdown",
   "metadata": {},
   "source": [
    "Code Example:\n",
    "Let's consider a scenario where we have a media player application that supports different types of media files, such as audio files (MP3, WAV) and video files (MP4, AVI).\n",
    "\n",
    "Without applying the ISP, we might have a single interface like this:"
   ]
  },
  {
   "cell_type": "code",
   "execution_count": 38,
   "metadata": {},
   "outputs": [],
   "source": [
    "from abc import ABC, abstractmethod\n",
    "\n",
    "\n",
    "class MediaPlayer(ABC):\n",
    "    @abstractmethod\n",
    "    def play_audio(self, audio_file):\n",
    "        pass\n",
    "\n",
    "    @abstractmethod\n",
    "    def play_video(self, video_file):\n",
    "        pass\n",
    "\n",
    "    @abstractmethod\n",
    "    def stop_audio(self):\n",
    "        pass\n",
    "\n",
    "    @abstractmethod\n",
    "    def stop_video(self):\n",
    "        pass\n",
    "\n",
    "    @abstractmethod\n",
    "    def adjust_audio_volume(self, volume):\n",
    "        pass\n",
    "\n",
    "    @abstractmethod\n",
    "    def adjust_video_quality(self, quality):\n",
    "        pass"
   ]
  },
  {
   "cell_type": "markdown",
   "metadata": {},
   "source": [
    "In this case, any class that implements the MediaPlayer interface would be forced to implement all the methods, even if it doesn't need them.\n",
    "\n",
    "For example, an audio player would have to implement the play_video, stop_video, and adjust_video_brightness methods, even though they are not relevant for audio playback.\n",
    "\n",
    "To adhere to the ISP, we can segregate the interface into smaller, more focused interfaces:\n",
    "\n"
   ]
  },
  {
   "cell_type": "code",
   "execution_count": 39,
   "metadata": {},
   "outputs": [],
   "source": [
    "from abc import ABC, abstractmethod\n",
    "\n",
    "\n",
    "class Audio_player(ABC):\n",
    "    @abstractmethod\n",
    "    def play_audio(self, audio_file):\n",
    "        pass\n",
    "\n",
    "    @abstractmethod\n",
    "    def stop_audio(self):\n",
    "        pass\n",
    "\n",
    "    @abstractmethod\n",
    "    def adjust_audio_volume(self, volume):\n",
    "        pass\n",
    "\n",
    "class Video_player(ABC):\n",
    "    @abstractmethod\n",
    "    def play_video(self, video_file):\n",
    "        pass\n",
    "\n",
    "    @abstractmethod\n",
    "    def stop_video(self):\n",
    "        pass\n",
    "\n",
    "    @abstractmethod\n",
    "    def adjust_video_quality(self, quality):\n",
    "        pass\n",
    "\n",
    "\n",
    "# Now, we can have separate implementations for audio and video players:\n",
    "\n",
    "class MP3Player(Audio_player):\n",
    "    def play_audio(self, audio_file):\n",
    "        print('Playing audio file:', audio_file)\n",
    "    \n",
    "    def stop_audio(self):\n",
    "        print('Audio playback stopped!')\n",
    "    \n",
    "    def adjust_audio_volume(self, volume):\n",
    "        print('Volume adjusted to:', volume)\n",
    "\n",
    "class MP4Player(Video_player):\n",
    "    def play_video(self, video_file):\n",
    "        print('Playing video file:', video_file)\n",
    "\n",
    "    def stop_video(self):\n",
    "        print('Video playback stopped!')\n",
    "\n",
    "    def adjust_video_quality(self, quality):\n",
    "        print('Video quality adjusted to:', quality)"
   ]
  },
  {
   "cell_type": "markdown",
   "metadata": {},
   "source": [
    "By segregating the interfaces, each class only needs to implement the methods it actually requires. This not only makes the code more maintainable but also prevents clients from being forced to depend on methods they don't use.\n",
    "\n",
    "If we need a class that supports both audio and video playback, we can create a new class that implements both interfaces:"
   ]
  },
  {
   "cell_type": "code",
   "execution_count": 42,
   "metadata": {},
   "outputs": [],
   "source": [
    "class MultiMediaPlayer(Audio_player, Video_player):\n",
    "    # Implementations for all the methods of both Audio_player and Video_player\n",
    "    pass"
   ]
  },
  {
   "cell_type": "code",
   "execution_count": 40,
   "metadata": {},
   "outputs": [
    {
     "name": "stdout",
     "output_type": "stream",
     "text": [
      "Playing audio file: song.mp3\n",
      "Volume adjusted to: 50\n",
      "Audio playback stopped!\n",
      "Playing video file: movie.mp4\n",
      "Video quality adjusted to: HD\n",
      "Video playback stopped!\n"
     ]
    }
   ],
   "source": [
    "audio_player = MP3Player()\n",
    "audio_player.play_audio('song.mp3')\n",
    "audio_player.adjust_audio_volume(50)\n",
    "audio_player.stop_audio()\n",
    "\n",
    "video_player = MP4Player()\n",
    "video_player.play_video('movie.mp4')\n",
    "video_player.adjust_video_quality('HD')\n",
    "video_player.stop_video()"
   ]
  },
  {
   "cell_type": "markdown",
   "metadata": {},
   "source": [
    "## D-Dependency Inversion Principle (DIP)"
   ]
  },
  {
   "cell_type": "markdown",
   "metadata": {},
   "source": [
    "High-level modules should not depend on low-level modules; both should depend on abstractions.\n",
    "\n",
    "This means that a particular class should not depend directly on another class, but on an abstraction (interface) of this class.\n",
    "Applying this principle reduces dependency on specific implementations and makes our code more reusable."
   ]
  },
  {
   "cell_type": "markdown",
   "metadata": {},
   "source": [
    "Code Example:\n",
    "Let's consider a example where we have a EmailService class that sends emails using a specific email provider (e.g., Gmail)."
   ]
  },
  {
   "cell_type": "code",
   "execution_count": 43,
   "metadata": {},
   "outputs": [],
   "source": [
    "class GmailClient:\n",
    "    def send_email(self, recipient, subject, body):\n",
    "        # logic to send email using gmail API\n",
    "        pass\n",
    "    \n",
    "class EmailService:\n",
    "    def __init__(self):\n",
    "        self.client = GmailClient()\n",
    "    \n",
    "    def send_email(self, recipient, subject, body):\n",
    "        return self.client.send_email(recipient, subject, body)"
   ]
  },
  {
   "cell_type": "markdown",
   "metadata": {},
   "source": [
    "In this example, the EmailService class directly depends on the GmailClient class, a low-level module that implements the details of sending emails using the Gmail API.\n",
    "\n",
    "This violates the DIP because the high-level EmailService module is tightly coupled to the low-level GmailClient module.\n",
    "\n",
    "To adhere to the DIP, we can introduce an abstraction (interface) for email clients:\n",
    "\n"
   ]
  },
  {
   "cell_type": "code",
   "execution_count": 45,
   "metadata": {},
   "outputs": [
    {
     "name": "stdout",
     "output_type": "stream",
     "text": [
      "Email sent to ivsumitkumar@gmail.com using Gmail API\n"
     ]
    }
   ],
   "source": [
    "from abc import ABC, abstractmethod\n",
    "\n",
    "class EmailClient:\n",
    "    @abstractmethod\n",
    "    def send_email(self, recipient, subject, body):\n",
    "        pass\n",
    "\n",
    "class GmailClient(EmailClient):\n",
    "    def send_email(self, recipient, subject, body):\n",
    "        print('Email sent to', recipient, 'using Gmail API')\n",
    "\n",
    "\n",
    "class OutlookClient(EmailClient):\n",
    "    def send_email(self, recipient, subject, body):\n",
    "        print('Email sent to', recipient, 'using Outlook API')\n",
    "\n",
    "\n",
    "class EmailService:\n",
    "    def __init__(self, email_client):\n",
    "        self.email_client = email_client\n",
    "    \n",
    "    def send_email(self, recipient, subject, body):\n",
    "        self.email_client.send_email(recipient, subject, body)\n",
    "\n",
    "gmail_client = GmailClient()\n",
    "email_service = EmailService(gmail_client)\n",
    "email_service.send_email('ivsumitkumar@gmail.com', 'subject', 'Hello Sumit, Welcome to Python Programming!')\n"
   ]
  },
  {
   "cell_type": "markdown",
   "metadata": {},
   "source": [
    "Now, the EmailService class depends on the EmailClient abstraction, and the low-level email client implementations (GmailClient and OutlookClient) depend on the abstraction.\n",
    "\n",
    "This follows the DIP, resulting in a more flexible and extensible design."
   ]
  },
  {
   "cell_type": "code",
   "execution_count": null,
   "metadata": {},
   "outputs": [],
   "source": []
  }
 ],
 "metadata": {
  "kernelspec": {
   "display_name": ".venv",
   "language": "python",
   "name": "python3"
  },
  "language_info": {
   "codemirror_mode": {
    "name": "ipython",
    "version": 3
   },
   "file_extension": ".py",
   "mimetype": "text/x-python",
   "name": "python",
   "nbconvert_exporter": "python",
   "pygments_lexer": "ipython3",
   "version": "3.12.3"
  }
 },
 "nbformat": 4,
 "nbformat_minor": 2
}
